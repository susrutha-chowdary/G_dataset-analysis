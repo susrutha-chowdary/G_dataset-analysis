{
 "cells": [
  {
   "cell_type": "markdown",
   "id": "51b30221",
   "metadata": {},
   "source": [
    "# EDA OF GOOGLE PLAYSTORE RATINGS "
   ]
  },
  {
   "cell_type": "markdown",
   "id": "40a41d9e",
   "metadata": {},
   "source": [
    "#### IMPORTING REQUIRED MODULES"
   ]
  },
  {
   "cell_type": "code",
   "execution_count": 2,
   "id": "45379267",
   "metadata": {},
   "outputs": [],
   "source": [
    "import pandas as pd\n",
    "import numpy as np\n",
    "import seaborn as sns\n",
    "import matplotlib.pyplot as plt\n",
    "%matplotlib inline"
   ]
  },
  {
   "cell_type": "markdown",
   "id": "66198301",
   "metadata": {},
   "source": [
    "#### READ THE DATA"
   ]
  },
  {
   "cell_type": "code",
   "execution_count": 3,
   "id": "da3b9247",
   "metadata": {},
   "outputs": [],
   "source": [
    "google_data=pd.read_csv('googleplaystore.csv')"
   ]
  },
  {
   "cell_type": "markdown",
   "id": "7483121d",
   "metadata": {},
   "source": [
    "#### EXPLORE THE DATA"
   ]
  },
  {
   "cell_type": "code",
   "execution_count": 4,
   "id": "a34ca4c6",
   "metadata": {},
   "outputs": [
    {
     "data": {
      "text/html": [
       "<div>\n",
       "<style scoped>\n",
       "    .dataframe tbody tr th:only-of-type {\n",
       "        vertical-align: middle;\n",
       "    }\n",
       "\n",
       "    .dataframe tbody tr th {\n",
       "        vertical-align: top;\n",
       "    }\n",
       "\n",
       "    .dataframe thead th {\n",
       "        text-align: right;\n",
       "    }\n",
       "</style>\n",
       "<table border=\"1\" class=\"dataframe\">\n",
       "  <thead>\n",
       "    <tr style=\"text-align: right;\">\n",
       "      <th></th>\n",
       "      <th>App</th>\n",
       "      <th>Category</th>\n",
       "      <th>Rating</th>\n",
       "      <th>Reviews</th>\n",
       "      <th>Size</th>\n",
       "      <th>Installs</th>\n",
       "      <th>Type</th>\n",
       "      <th>Price</th>\n",
       "      <th>Content Rating</th>\n",
       "      <th>Genres</th>\n",
       "      <th>Last Updated</th>\n",
       "      <th>Current Ver</th>\n",
       "      <th>Android Ver</th>\n",
       "    </tr>\n",
       "  </thead>\n",
       "  <tbody>\n",
       "    <tr>\n",
       "      <th>0</th>\n",
       "      <td>Photo Editor &amp; Candy Camera &amp; Grid &amp; ScrapBook</td>\n",
       "      <td>ART_AND_DESIGN</td>\n",
       "      <td>4.1</td>\n",
       "      <td>159</td>\n",
       "      <td>19M</td>\n",
       "      <td>10,000+</td>\n",
       "      <td>Free</td>\n",
       "      <td>0</td>\n",
       "      <td>Everyone</td>\n",
       "      <td>Art &amp; Design</td>\n",
       "      <td>January 7, 2018</td>\n",
       "      <td>1.0.0</td>\n",
       "      <td>4.0.3 and up</td>\n",
       "    </tr>\n",
       "    <tr>\n",
       "      <th>1</th>\n",
       "      <td>Coloring book moana</td>\n",
       "      <td>ART_AND_DESIGN</td>\n",
       "      <td>3.9</td>\n",
       "      <td>967</td>\n",
       "      <td>14M</td>\n",
       "      <td>500,000+</td>\n",
       "      <td>Free</td>\n",
       "      <td>0</td>\n",
       "      <td>Everyone</td>\n",
       "      <td>Art &amp; Design;Pretend Play</td>\n",
       "      <td>January 15, 2018</td>\n",
       "      <td>2.0.0</td>\n",
       "      <td>4.0.3 and up</td>\n",
       "    </tr>\n",
       "    <tr>\n",
       "      <th>2</th>\n",
       "      <td>U Launcher Lite – FREE Live Cool Themes, Hide ...</td>\n",
       "      <td>ART_AND_DESIGN</td>\n",
       "      <td>4.7</td>\n",
       "      <td>87510</td>\n",
       "      <td>8.7M</td>\n",
       "      <td>5,000,000+</td>\n",
       "      <td>Free</td>\n",
       "      <td>0</td>\n",
       "      <td>Everyone</td>\n",
       "      <td>Art &amp; Design</td>\n",
       "      <td>August 1, 2018</td>\n",
       "      <td>1.2.4</td>\n",
       "      <td>4.0.3 and up</td>\n",
       "    </tr>\n",
       "    <tr>\n",
       "      <th>3</th>\n",
       "      <td>Sketch - Draw &amp; Paint</td>\n",
       "      <td>ART_AND_DESIGN</td>\n",
       "      <td>4.5</td>\n",
       "      <td>215644</td>\n",
       "      <td>25M</td>\n",
       "      <td>50,000,000+</td>\n",
       "      <td>Free</td>\n",
       "      <td>0</td>\n",
       "      <td>Teen</td>\n",
       "      <td>Art &amp; Design</td>\n",
       "      <td>June 8, 2018</td>\n",
       "      <td>Varies with device</td>\n",
       "      <td>4.2 and up</td>\n",
       "    </tr>\n",
       "    <tr>\n",
       "      <th>4</th>\n",
       "      <td>Pixel Draw - Number Art Coloring Book</td>\n",
       "      <td>ART_AND_DESIGN</td>\n",
       "      <td>4.3</td>\n",
       "      <td>967</td>\n",
       "      <td>2.8M</td>\n",
       "      <td>100,000+</td>\n",
       "      <td>Free</td>\n",
       "      <td>0</td>\n",
       "      <td>Everyone</td>\n",
       "      <td>Art &amp; Design;Creativity</td>\n",
       "      <td>June 20, 2018</td>\n",
       "      <td>1.1</td>\n",
       "      <td>4.4 and up</td>\n",
       "    </tr>\n",
       "  </tbody>\n",
       "</table>\n",
       "</div>"
      ],
      "text/plain": [
       "                                                 App        Category  Rating  \\\n",
       "0     Photo Editor & Candy Camera & Grid & ScrapBook  ART_AND_DESIGN     4.1   \n",
       "1                                Coloring book moana  ART_AND_DESIGN     3.9   \n",
       "2  U Launcher Lite – FREE Live Cool Themes, Hide ...  ART_AND_DESIGN     4.7   \n",
       "3                              Sketch - Draw & Paint  ART_AND_DESIGN     4.5   \n",
       "4              Pixel Draw - Number Art Coloring Book  ART_AND_DESIGN     4.3   \n",
       "\n",
       "  Reviews  Size     Installs  Type Price Content Rating  \\\n",
       "0     159   19M      10,000+  Free     0       Everyone   \n",
       "1     967   14M     500,000+  Free     0       Everyone   \n",
       "2   87510  8.7M   5,000,000+  Free     0       Everyone   \n",
       "3  215644   25M  50,000,000+  Free     0           Teen   \n",
       "4     967  2.8M     100,000+  Free     0       Everyone   \n",
       "\n",
       "                      Genres      Last Updated         Current Ver  \\\n",
       "0               Art & Design   January 7, 2018               1.0.0   \n",
       "1  Art & Design;Pretend Play  January 15, 2018               2.0.0   \n",
       "2               Art & Design    August 1, 2018               1.2.4   \n",
       "3               Art & Design      June 8, 2018  Varies with device   \n",
       "4    Art & Design;Creativity     June 20, 2018                 1.1   \n",
       "\n",
       "    Android Ver  \n",
       "0  4.0.3 and up  \n",
       "1  4.0.3 and up  \n",
       "2  4.0.3 and up  \n",
       "3    4.2 and up  \n",
       "4    4.4 and up  "
      ]
     },
     "execution_count": 4,
     "metadata": {},
     "output_type": "execute_result"
    }
   ],
   "source": [
    "google_data.head()"
   ]
  },
  {
   "cell_type": "code",
   "execution_count": 5,
   "id": "b7626c03",
   "metadata": {},
   "outputs": [
    {
     "data": {
      "text/html": [
       "<div>\n",
       "<style scoped>\n",
       "    .dataframe tbody tr th:only-of-type {\n",
       "        vertical-align: middle;\n",
       "    }\n",
       "\n",
       "    .dataframe tbody tr th {\n",
       "        vertical-align: top;\n",
       "    }\n",
       "\n",
       "    .dataframe thead th {\n",
       "        text-align: right;\n",
       "    }\n",
       "</style>\n",
       "<table border=\"1\" class=\"dataframe\">\n",
       "  <thead>\n",
       "    <tr style=\"text-align: right;\">\n",
       "      <th></th>\n",
       "      <th>Rating</th>\n",
       "    </tr>\n",
       "  </thead>\n",
       "  <tbody>\n",
       "    <tr>\n",
       "      <th>count</th>\n",
       "      <td>9367.000000</td>\n",
       "    </tr>\n",
       "    <tr>\n",
       "      <th>mean</th>\n",
       "      <td>4.193338</td>\n",
       "    </tr>\n",
       "    <tr>\n",
       "      <th>std</th>\n",
       "      <td>0.537431</td>\n",
       "    </tr>\n",
       "    <tr>\n",
       "      <th>min</th>\n",
       "      <td>1.000000</td>\n",
       "    </tr>\n",
       "    <tr>\n",
       "      <th>25%</th>\n",
       "      <td>4.000000</td>\n",
       "    </tr>\n",
       "    <tr>\n",
       "      <th>50%</th>\n",
       "      <td>4.300000</td>\n",
       "    </tr>\n",
       "    <tr>\n",
       "      <th>75%</th>\n",
       "      <td>4.500000</td>\n",
       "    </tr>\n",
       "    <tr>\n",
       "      <th>max</th>\n",
       "      <td>19.000000</td>\n",
       "    </tr>\n",
       "  </tbody>\n",
       "</table>\n",
       "</div>"
      ],
      "text/plain": [
       "            Rating\n",
       "count  9367.000000\n",
       "mean      4.193338\n",
       "std       0.537431\n",
       "min       1.000000\n",
       "25%       4.000000\n",
       "50%       4.300000\n",
       "75%       4.500000\n",
       "max      19.000000"
      ]
     },
     "execution_count": 5,
     "metadata": {},
     "output_type": "execute_result"
    }
   ],
   "source": [
    "google_data.describe()"
   ]
  },
  {
   "cell_type": "markdown",
   "id": "e2171bb7",
   "metadata": {},
   "source": [
    "  ####    \" infering from this describe, we can say that there is only one numerical column. there can be nulls in other columns\""
   ]
  },
  {
   "cell_type": "code",
   "execution_count": 6,
   "id": "8adfd0da",
   "metadata": {},
   "outputs": [
    {
     "data": {
      "text/plain": [
       "(10841, 13)"
      ]
     },
     "execution_count": 6,
     "metadata": {},
     "output_type": "execute_result"
    }
   ],
   "source": [
    "google_data.shape"
   ]
  },
  {
   "cell_type": "code",
   "execution_count": 7,
   "id": "bb30d1d5",
   "metadata": {},
   "outputs": [
    {
     "name": "stdout",
     "output_type": "stream",
     "text": [
      "<class 'pandas.core.frame.DataFrame'>\n",
      "RangeIndex: 10841 entries, 0 to 10840\n",
      "Data columns (total 13 columns):\n",
      " #   Column          Non-Null Count  Dtype  \n",
      "---  ------          --------------  -----  \n",
      " 0   App             10841 non-null  object \n",
      " 1   Category        10841 non-null  object \n",
      " 2   Rating          9367 non-null   float64\n",
      " 3   Reviews         10841 non-null  object \n",
      " 4   Size            10841 non-null  object \n",
      " 5   Installs        10841 non-null  object \n",
      " 6   Type            10840 non-null  object \n",
      " 7   Price           10841 non-null  object \n",
      " 8   Content Rating  10840 non-null  object \n",
      " 9   Genres          10841 non-null  object \n",
      " 10  Last Updated    10841 non-null  object \n",
      " 11  Current Ver     10833 non-null  object \n",
      " 12  Android Ver     10838 non-null  object \n",
      "dtypes: float64(1), object(12)\n",
      "memory usage: 1.1+ MB\n"
     ]
    }
   ],
   "source": [
    "google_data.info()"
   ]
  },
  {
   "cell_type": "markdown",
   "id": "c973826c",
   "metadata": {},
   "source": [
    "#### here we can see that there are nulls in ratings,current ver,android ver, Type,Content Rating"
   ]
  },
  {
   "cell_type": "code",
   "execution_count": 8,
   "id": "2f233a16",
   "metadata": {},
   "outputs": [
    {
     "data": {
      "text/plain": [
       "<AxesSubplot:>"
      ]
     },
     "execution_count": 8,
     "metadata": {},
     "output_type": "execute_result"
    },
    {
     "data": {
      "image/png": "[encoded data removed]",
      "text/plain": [
       "<Figure size 432x288 with 1 Axes>"
      ]
     },
     "metadata": {
      "needs_background": "light"
     },
     "output_type": "display_data"
    }
   ],
   "source": [
    "google_data.boxplot()"
   ]
  },
  {
   "cell_type": "markdown",
   "id": "eda61a78",
   "metadata": {},
   "source": [
    "####    here we can see there is one outlier in ratings column"
   ]
  },
  {
   "cell_type": "code",
   "execution_count": 9,
   "id": "c3504a1c",
   "metadata": {},
   "outputs": [
    {
     "data": {
      "text/plain": [
       "array([[<AxesSubplot:title={'center':'Rating'}>]], dtype=object)"
      ]
     },
     "execution_count": 9,
     "metadata": {},
     "output_type": "execute_result"
    },
    {
     "data": {
      "image/png": "[encoded data removed]",
      "text/plain": [
       "<Figure size 432x288 with 1 Axes>"
      ]
     },
     "metadata": {},
     "output_type": "display_data"
    }
   ],
   "source": [
    "sns.set_style('whitegrid')\n",
    "google_data.hist()"
   ]
  },
  {
   "cell_type": "markdown",
   "id": "84034285",
   "metadata": {},
   "source": [
    "#### COUTING THE NUMBER OF NULLS IN EACH COLUMN"
   ]
  },
  {
   "cell_type": "code",
   "execution_count": 10,
   "id": "170d88ec",
   "metadata": {},
   "outputs": [
    {
     "data": {
      "text/plain": [
       "App                  0\n",
       "Category             0\n",
       "Rating            1474\n",
       "Reviews              0\n",
       "Size                 0\n",
       "Installs             0\n",
       "Type                 1\n",
       "Price                0\n",
       "Content Rating       1\n",
       "Genres               0\n",
       "Last Updated         0\n",
       "Current Ver          8\n",
       "Android Ver          3\n",
       "dtype: int64"
      ]
     },
     "execution_count": 10,
     "metadata": {},
     "output_type": "execute_result"
    }
   ],
   "source": [
    "google_data.isnull().sum()"
   ]
  },
  {
   "cell_type": "markdown",
   "id": "343da5ff",
   "metadata": {},
   "source": [
    "#### CHECKING FOR DUPLICATES"
   ]
  },
  {
   "cell_type": "code",
   "execution_count": 11,
   "id": "6229a5ba",
   "metadata": {},
   "outputs": [
    {
     "data": {
      "text/plain": [
       "483"
      ]
     },
     "execution_count": 11,
     "metadata": {},
     "output_type": "execute_result"
    }
   ],
   "source": [
    "google_data.duplicated().sum()"
   ]
  },
  {
   "cell_type": "markdown",
   "id": "49d54d96",
   "metadata": {},
   "source": [
    "## DATA CLEANING "
   ]
  },
  {
   "cell_type": "markdown",
   "id": "5e25c6da",
   "metadata": {},
   "source": [
    "####  REMOVING DUPLICATES"
   ]
  },
  {
   "cell_type": "code",
   "execution_count": 12,
   "id": "739848c4",
   "metadata": {},
   "outputs": [],
   "source": [
    "google_data.drop_duplicates(inplace=True)"
   ]
  },
  {
   "cell_type": "markdown",
   "id": "8d6ed5b7",
   "metadata": {},
   "source": [
    "#### REMOVING THE OUTLIER"
   ]
  },
  {
   "cell_type": "code",
   "execution_count": 13,
   "id": "593b7b05",
   "metadata": {},
   "outputs": [
    {
     "data": {
      "text/html": [
       "<div>\n",
       "<style scoped>\n",
       "    .dataframe tbody tr th:only-of-type {\n",
       "        vertical-align: middle;\n",
       "    }\n",
       "\n",
       "    .dataframe tbody tr th {\n",
       "        vertical-align: top;\n",
       "    }\n",
       "\n",
       "    .dataframe thead th {\n",
       "        text-align: right;\n",
       "    }\n",
       "</style>\n",
       "<table border=\"1\" class=\"dataframe\">\n",
       "  <thead>\n",
       "    <tr style=\"text-align: right;\">\n",
       "      <th></th>\n",
       "      <th>App</th>\n",
       "      <th>Category</th>\n",
       "      <th>Rating</th>\n",
       "      <th>Reviews</th>\n",
       "      <th>Size</th>\n",
       "      <th>Installs</th>\n",
       "      <th>Type</th>\n",
       "      <th>Price</th>\n",
       "      <th>Content Rating</th>\n",
       "      <th>Genres</th>\n",
       "      <th>Last Updated</th>\n",
       "      <th>Current Ver</th>\n",
       "      <th>Android Ver</th>\n",
       "    </tr>\n",
       "  </thead>\n",
       "  <tbody>\n",
       "    <tr>\n",
       "      <th>10472</th>\n",
       "      <td>Life Made WI-Fi Touchscreen Photo Frame</td>\n",
       "      <td>1.9</td>\n",
       "      <td>19.0</td>\n",
       "      <td>3.0M</td>\n",
       "      <td>1,000+</td>\n",
       "      <td>Free</td>\n",
       "      <td>0</td>\n",
       "      <td>Everyone</td>\n",
       "      <td>NaN</td>\n",
       "      <td>February 11, 2018</td>\n",
       "      <td>1.0.19</td>\n",
       "      <td>4.0 and up</td>\n",
       "      <td>NaN</td>\n",
       "    </tr>\n",
       "  </tbody>\n",
       "</table>\n",
       "</div>"
      ],
      "text/plain": [
       "                                           App Category  Rating Reviews  \\\n",
       "10472  Life Made WI-Fi Touchscreen Photo Frame      1.9    19.0    3.0M   \n",
       "\n",
       "         Size Installs Type     Price Content Rating             Genres  \\\n",
       "10472  1,000+     Free    0  Everyone            NaN  February 11, 2018   \n",
       "\n",
       "      Last Updated Current Ver Android Ver  \n",
       "10472       1.0.19  4.0 and up         NaN  "
      ]
     },
     "execution_count": 13,
     "metadata": {},
     "output_type": "execute_result"
    }
   ],
   "source": [
    "google_data[google_data.Rating > 5]"
   ]
  },
  {
   "cell_type": "code",
   "execution_count": 14,
   "id": "a32cab3f",
   "metadata": {},
   "outputs": [],
   "source": [
    "google_data.drop([10472],inplace=True)"
   ]
  },
  {
   "cell_type": "code",
   "execution_count": 15,
   "id": "17edc07d",
   "metadata": {},
   "outputs": [
    {
     "data": {
      "text/html": [
       "<div>\n",
       "<style scoped>\n",
       "    .dataframe tbody tr th:only-of-type {\n",
       "        vertical-align: middle;\n",
       "    }\n",
       "\n",
       "    .dataframe tbody tr th {\n",
       "        vertical-align: top;\n",
       "    }\n",
       "\n",
       "    .dataframe thead th {\n",
       "        text-align: right;\n",
       "    }\n",
       "</style>\n",
       "<table border=\"1\" class=\"dataframe\">\n",
       "  <thead>\n",
       "    <tr style=\"text-align: right;\">\n",
       "      <th></th>\n",
       "      <th>App</th>\n",
       "      <th>Category</th>\n",
       "      <th>Rating</th>\n",
       "      <th>Reviews</th>\n",
       "      <th>Size</th>\n",
       "      <th>Installs</th>\n",
       "      <th>Type</th>\n",
       "      <th>Price</th>\n",
       "      <th>Content Rating</th>\n",
       "      <th>Genres</th>\n",
       "      <th>Last Updated</th>\n",
       "      <th>Current Ver</th>\n",
       "      <th>Android Ver</th>\n",
       "    </tr>\n",
       "  </thead>\n",
       "  <tbody>\n",
       "  </tbody>\n",
       "</table>\n",
       "</div>"
      ],
      "text/plain": [
       "Empty DataFrame\n",
       "Columns: [App, Category, Rating, Reviews, Size, Installs, Type, Price, Content Rating, Genres, Last Updated, Current Ver, Android Ver]\n",
       "Index: []"
      ]
     },
     "execution_count": 15,
     "metadata": {},
     "output_type": "execute_result"
    }
   ],
   "source": [
    "google_data[10470:10475]"
   ]
  },
  {
   "cell_type": "code",
   "execution_count": 16,
   "id": "c0026c9f",
   "metadata": {},
   "outputs": [
    {
     "data": {
      "text/plain": [
       "<AxesSubplot:>"
      ]
     },
     "execution_count": 16,
     "metadata": {},
     "output_type": "execute_result"
    },
    {
     "data": {
      "image/png": "[encoded data removed]",
      "text/plain": [
       "<Figure size 432x288 with 1 Axes>"
      ]
     },
     "metadata": {},
     "output_type": "display_data"
    }
   ],
   "source": [
    "google_data.boxplot()"
   ]
  },
  {
   "cell_type": "code",
   "execution_count": 17,
   "id": "80bf6de7",
   "metadata": {},
   "outputs": [
    {
     "name": "stderr",
     "output_type": "stream",
     "text": [
      "E:\\anaconda3\\lib\\site-packages\\seaborn\\distributions.py:2619: FutureWarning: `distplot` is a deprecated function and will be removed in a future version. Please adapt your code to use either `displot` (a figure-level function with similar flexibility) or `histplot` (an axes-level function for histograms).\n",
      "  warnings.warn(msg, FutureWarning)\n"
     ]
    },
    {
     "data": {
      "text/plain": [
       "<AxesSubplot:xlabel='Rating', ylabel='Density'>"
      ]
     },
     "execution_count": 17,
     "metadata": {},
     "output_type": "execute_result"
    },
    {
     "data": {
      "image/png": "[encoded data removed]",
      "text/plain": [
       "<Figure size 432x288 with 1 Axes>"
      ]
     },
     "metadata": {},
     "output_type": "display_data"
    }
   ],
   "source": [
    "sns.distplot(google_data.Rating)"
   ]
  },
  {
   "cell_type": "markdown",
   "id": "cce16d61",
   "metadata": {},
   "source": [
    "#### as we can see the data is right skewed data. for these kinds of data we use median instead of mean for the null values. but this can not be done for strings hence we can use mode in these cases"
   ]
  },
  {
   "cell_type": "markdown",
   "id": "1f36d841",
   "metadata": {},
   "source": [
    "## DATA MANIPULATION"
   ]
  },
  {
   "cell_type": "markdown",
   "id": "f25c42b7",
   "metadata": {},
   "source": [
    "#### FILL IN THE NULLS"
   ]
  },
  {
   "cell_type": "code",
   "execution_count": 18,
   "id": "ecc0a834",
   "metadata": {},
   "outputs": [
    {
     "name": "stdout",
     "output_type": "stream",
     "text": [
      "0    Free\n",
      "dtype: object\n",
      "0    Varies with device\n",
      "dtype: object\n",
      "0    4.1 and up\n",
      "dtype: object\n"
     ]
    }
   ],
   "source": [
    "print(google_data['Type'].mode())\n",
    "print(google_data['Current Ver'].mode())\n",
    "print(google_data['Android Ver'].mode())  # the data can be unimodal or bimodal"
   ]
  },
  {
   "cell_type": "markdown",
   "id": "bfd7b096",
   "metadata": {},
   "source": [
    "#### it dosent seem logical to use attributes like current_ver and android_ver for one app to another, but we are doing it for the purpose of the data manipulation. we do not use these columns for analysis."
   ]
  },
  {
   "cell_type": "code",
   "execution_count": 19,
   "id": "65233ccb",
   "metadata": {},
   "outputs": [],
   "source": [
    "# Fill the missing values with mode\n",
    "google_data['Type'].fillna(str(google_data['Type'].mode()), inplace=True)\n",
    "google_data['Current Ver'].fillna(str(google_data['Current Ver'].mode().values[0]), inplace=True)\n",
    "google_data['Android Ver'].fillna(str(google_data['Android Ver'].mode().values[0]), inplace=True) \n",
    "# here mode().values[0] is for first mode if it is bimodal"
   ]
  },
  {
   "cell_type": "markdown",
   "id": "2609cb24",
   "metadata": {},
   "source": [
    "#### for ratings wew can use median to fill nulls"
   ]
  },
  {
   "cell_type": "code",
   "execution_count": 20,
   "id": "25a69f17",
   "metadata": {},
   "outputs": [],
   "source": [
    "google_data['Rating'].fillna(google_data['Rating'].median(), inplace= True)\n",
    "google_data['Rating']=google_data['Rating'].round(1)"
   ]
  },
  {
   "cell_type": "code",
   "execution_count": 21,
   "id": "10455a31",
   "metadata": {},
   "outputs": [
    {
     "data": {
      "text/plain": [
       "App               0\n",
       "Category          0\n",
       "Rating            0\n",
       "Reviews           0\n",
       "Size              0\n",
       "Installs          0\n",
       "Type              0\n",
       "Price             0\n",
       "Content Rating    0\n",
       "Genres            0\n",
       "Last Updated      0\n",
       "Current Ver       0\n",
       "Android Ver       0\n",
       "dtype: int64"
      ]
     },
     "execution_count": 21,
     "metadata": {},
     "output_type": "execute_result"
    }
   ],
   "source": [
    "google_data.isnull().sum()"
   ]
  },
  {
   "cell_type": "markdown",
   "id": "5395083a",
   "metadata": {},
   "source": [
    "#### CONVERTING NON-NUMERIC COLUMNS TO NUMERIC COLUMNS"
   ]
  },
  {
   "cell_type": "code",
   "execution_count": 22,
   "id": "8e3bc3bd",
   "metadata": {},
   "outputs": [
    {
     "data": {
      "text/html": [
       "<div>\n",
       "<style scoped>\n",
       "    .dataframe tbody tr th:only-of-type {\n",
       "        vertical-align: middle;\n",
       "    }\n",
       "\n",
       "    .dataframe tbody tr th {\n",
       "        vertical-align: top;\n",
       "    }\n",
       "\n",
       "    .dataframe thead th {\n",
       "        text-align: right;\n",
       "    }\n",
       "</style>\n",
       "<table border=\"1\" class=\"dataframe\">\n",
       "  <thead>\n",
       "    <tr style=\"text-align: right;\">\n",
       "      <th></th>\n",
       "      <th>App</th>\n",
       "      <th>Category</th>\n",
       "      <th>Rating</th>\n",
       "      <th>Reviews</th>\n",
       "      <th>Size</th>\n",
       "      <th>Installs</th>\n",
       "      <th>Type</th>\n",
       "      <th>Price</th>\n",
       "      <th>Content Rating</th>\n",
       "      <th>Genres</th>\n",
       "      <th>Last Updated</th>\n",
       "      <th>Current Ver</th>\n",
       "      <th>Android Ver</th>\n",
       "    </tr>\n",
       "  </thead>\n",
       "  <tbody>\n",
       "    <tr>\n",
       "      <th>9117</th>\n",
       "      <td>لعبة تقدر تربح DZ</td>\n",
       "      <td>FAMILY</td>\n",
       "      <td>4.2</td>\n",
       "      <td>238</td>\n",
       "      <td>6.8M</td>\n",
       "      <td>10,000+</td>\n",
       "      <td>Free</td>\n",
       "      <td>0</td>\n",
       "      <td>Everyone</td>\n",
       "      <td>Education</td>\n",
       "      <td>November 18, 2016</td>\n",
       "      <td>6.0.0.0</td>\n",
       "      <td>4.1 and up</td>\n",
       "    </tr>\n",
       "    <tr>\n",
       "      <th>7116</th>\n",
       "      <td>CB Martial Arts</td>\n",
       "      <td>HEALTH_AND_FITNESS</td>\n",
       "      <td>4.3</td>\n",
       "      <td>0</td>\n",
       "      <td>8.7M</td>\n",
       "      <td>10+</td>\n",
       "      <td>Free</td>\n",
       "      <td>0</td>\n",
       "      <td>Everyone</td>\n",
       "      <td>Health &amp; Fitness</td>\n",
       "      <td>May 15, 2018</td>\n",
       "      <td>1.1.7</td>\n",
       "      <td>4.1 and up</td>\n",
       "    </tr>\n",
       "    <tr>\n",
       "      <th>2995</th>\n",
       "      <td>League18</td>\n",
       "      <td>SPORTS</td>\n",
       "      <td>4.3</td>\n",
       "      <td>14123</td>\n",
       "      <td>13M</td>\n",
       "      <td>500,000+</td>\n",
       "      <td>Free</td>\n",
       "      <td>0</td>\n",
       "      <td>Everyone</td>\n",
       "      <td>Sports</td>\n",
       "      <td>August 1, 2018</td>\n",
       "      <td>4.0.0</td>\n",
       "      <td>4.0 and up</td>\n",
       "    </tr>\n",
       "    <tr>\n",
       "      <th>839</th>\n",
       "      <td>Timetable</td>\n",
       "      <td>EDUCATION</td>\n",
       "      <td>4.2</td>\n",
       "      <td>40209</td>\n",
       "      <td>Varies with device</td>\n",
       "      <td>1,000,000+</td>\n",
       "      <td>Free</td>\n",
       "      <td>0</td>\n",
       "      <td>Everyone</td>\n",
       "      <td>Education</td>\n",
       "      <td>May 24, 2018</td>\n",
       "      <td>Varies with device</td>\n",
       "      <td>Varies with device</td>\n",
       "    </tr>\n",
       "    <tr>\n",
       "      <th>9628</th>\n",
       "      <td>Edmodo</td>\n",
       "      <td>FAMILY</td>\n",
       "      <td>4.1</td>\n",
       "      <td>200214</td>\n",
       "      <td>18M</td>\n",
       "      <td>10,000,000+</td>\n",
       "      <td>Free</td>\n",
       "      <td>0</td>\n",
       "      <td>Everyone</td>\n",
       "      <td>Education</td>\n",
       "      <td>August 6, 2018</td>\n",
       "      <td>9.12.6</td>\n",
       "      <td>4.0.3 and up</td>\n",
       "    </tr>\n",
       "    <tr>\n",
       "      <th>6085</th>\n",
       "      <td>She Will Be Loved Lyrics</td>\n",
       "      <td>FAMILY</td>\n",
       "      <td>4.3</td>\n",
       "      <td>2</td>\n",
       "      <td>705k</td>\n",
       "      <td>100+</td>\n",
       "      <td>Free</td>\n",
       "      <td>0</td>\n",
       "      <td>Everyone</td>\n",
       "      <td>Entertainment</td>\n",
       "      <td>March 1, 2016</td>\n",
       "      <td>1</td>\n",
       "      <td>2.1 and up</td>\n",
       "    </tr>\n",
       "    <tr>\n",
       "      <th>1273</th>\n",
       "      <td>Walk with Map My Walk</td>\n",
       "      <td>HEALTH_AND_FITNESS</td>\n",
       "      <td>4.5</td>\n",
       "      <td>144040</td>\n",
       "      <td>55M</td>\n",
       "      <td>5,000,000+</td>\n",
       "      <td>Free</td>\n",
       "      <td>0</td>\n",
       "      <td>Everyone</td>\n",
       "      <td>Health &amp; Fitness</td>\n",
       "      <td>July 27, 2018</td>\n",
       "      <td>18.7.1</td>\n",
       "      <td>5.0 and up</td>\n",
       "    </tr>\n",
       "    <tr>\n",
       "      <th>8514</th>\n",
       "      <td>Downloader &amp; Private Browser</td>\n",
       "      <td>TOOLS</td>\n",
       "      <td>4.3</td>\n",
       "      <td>1072565</td>\n",
       "      <td>Varies with device</td>\n",
       "      <td>50,000,000+</td>\n",
       "      <td>Free</td>\n",
       "      <td>0</td>\n",
       "      <td>Everyone</td>\n",
       "      <td>Tools</td>\n",
       "      <td>July 25, 2018</td>\n",
       "      <td>Varies with device</td>\n",
       "      <td>Varies with device</td>\n",
       "    </tr>\n",
       "    <tr>\n",
       "      <th>8944</th>\n",
       "      <td>SDV Cam</td>\n",
       "      <td>TOOLS</td>\n",
       "      <td>3.2</td>\n",
       "      <td>67</td>\n",
       "      <td>65M</td>\n",
       "      <td>10,000+</td>\n",
       "      <td>Free</td>\n",
       "      <td>0</td>\n",
       "      <td>Everyone</td>\n",
       "      <td>Tools</td>\n",
       "      <td>June 2, 2017</td>\n",
       "      <td>1.0.8</td>\n",
       "      <td>4.0.3 and up</td>\n",
       "    </tr>\n",
       "    <tr>\n",
       "      <th>5421</th>\n",
       "      <td>Carnivores: Dinosaur Hunter</td>\n",
       "      <td>GAME</td>\n",
       "      <td>4.2</td>\n",
       "      <td>62636</td>\n",
       "      <td>17M</td>\n",
       "      <td>1,000,000+</td>\n",
       "      <td>Free</td>\n",
       "      <td>0</td>\n",
       "      <td>Teen</td>\n",
       "      <td>Action</td>\n",
       "      <td>July 2, 2018</td>\n",
       "      <td>1.8.0</td>\n",
       "      <td>4.0.3 and up</td>\n",
       "    </tr>\n",
       "  </tbody>\n",
       "</table>\n",
       "</div>"
      ],
      "text/plain": [
       "                               App            Category  Rating  Reviews  \\\n",
       "9117             لعبة تقدر تربح DZ              FAMILY     4.2      238   \n",
       "7116               CB Martial Arts  HEALTH_AND_FITNESS     4.3        0   \n",
       "2995                      League18              SPORTS     4.3    14123   \n",
       "839                      Timetable           EDUCATION     4.2    40209   \n",
       "9628                        Edmodo              FAMILY     4.1   200214   \n",
       "6085      She Will Be Loved Lyrics              FAMILY     4.3        2   \n",
       "1273         Walk with Map My Walk  HEALTH_AND_FITNESS     4.5   144040   \n",
       "8514  Downloader & Private Browser               TOOLS     4.3  1072565   \n",
       "8944                       SDV Cam               TOOLS     3.2       67   \n",
       "5421   Carnivores: Dinosaur Hunter                GAME     4.2    62636   \n",
       "\n",
       "                    Size     Installs  Type Price Content Rating  \\\n",
       "9117                6.8M      10,000+  Free     0       Everyone   \n",
       "7116                8.7M          10+  Free     0       Everyone   \n",
       "2995                 13M     500,000+  Free     0       Everyone   \n",
       "839   Varies with device   1,000,000+  Free     0       Everyone   \n",
       "9628                 18M  10,000,000+  Free     0       Everyone   \n",
       "6085                705k         100+  Free     0       Everyone   \n",
       "1273                 55M   5,000,000+  Free     0       Everyone   \n",
       "8514  Varies with device  50,000,000+  Free     0       Everyone   \n",
       "8944                 65M      10,000+  Free     0       Everyone   \n",
       "5421                 17M   1,000,000+  Free     0           Teen   \n",
       "\n",
       "                Genres       Last Updated         Current Ver  \\\n",
       "9117         Education  November 18, 2016             6.0.0.0   \n",
       "7116  Health & Fitness       May 15, 2018               1.1.7   \n",
       "2995            Sports     August 1, 2018               4.0.0   \n",
       "839          Education       May 24, 2018  Varies with device   \n",
       "9628         Education     August 6, 2018              9.12.6   \n",
       "6085     Entertainment      March 1, 2016                   1   \n",
       "1273  Health & Fitness      July 27, 2018              18.7.1   \n",
       "8514             Tools      July 25, 2018  Varies with device   \n",
       "8944             Tools       June 2, 2017               1.0.8   \n",
       "5421            Action       July 2, 2018               1.8.0   \n",
       "\n",
       "             Android Ver  \n",
       "9117          4.1 and up  \n",
       "7116          4.1 and up  \n",
       "2995          4.0 and up  \n",
       "839   Varies with device  \n",
       "9628        4.0.3 and up  \n",
       "6085          2.1 and up  \n",
       "1273          5.0 and up  \n",
       "8514  Varies with device  \n",
       "8944        4.0.3 and up  \n",
       "5421        4.0.3 and up  "
      ]
     },
     "execution_count": 22,
     "metadata": {},
     "output_type": "execute_result"
    }
   ],
   "source": [
    "google_data.sample(10)"
   ]
  },
  {
   "cell_type": "code",
   "execution_count": 23,
   "id": "ad734daf",
   "metadata": {},
   "outputs": [],
   "source": [
    "google_data['Reviews']=pd.to_numeric(google_data['Reviews'])"
   ]
  },
  {
   "cell_type": "code",
   "execution_count": 24,
   "id": "f1a1d912",
   "metadata": {},
   "outputs": [],
   "source": [
    "google_data['Price']= google_data['Price'].apply(lambda x: x.replace('$', '') if '$' in x else x)"
   ]
  },
  {
   "cell_type": "code",
   "execution_count": 25,
   "id": "60f90b17",
   "metadata": {},
   "outputs": [],
   "source": [
    "google_data['Price'] =pd.to_numeric(google_data['Price'],downcast='float')\n",
    "google_data['Price'] = google_data['Price'].round(2)"
   ]
  },
  {
   "cell_type": "markdown",
   "id": "c48b6688",
   "metadata": {},
   "source": [
    "converted both reviews and price columns to numeric datatype"
   ]
  },
  {
   "cell_type": "code",
   "execution_count": 26,
   "id": "8c51160b",
   "metadata": {},
   "outputs": [],
   "source": [
    "google_data['Installs']=google_data['Installs'].apply(lambda x: x.replace('+', '') if '+' in x else x)\n",
    "google_data['Installs']=google_data['Installs'].apply(lambda x: x.replace(',', '') if ',' in x else x)"
   ]
  },
  {
   "cell_type": "code",
   "execution_count": 27,
   "id": "9c3ded15",
   "metadata": {},
   "outputs": [],
   "source": [
    "google_data['Installs']=pd.to_numeric(google_data['Installs'])"
   ]
  },
  {
   "cell_type": "markdown",
   "id": "18ec6b44",
   "metadata": {},
   "source": [
    "#### converted installs to numeric datatype"
   ]
  },
  {
   "cell_type": "code",
   "execution_count": 28,
   "id": "c9998b2a",
   "metadata": {},
   "outputs": [
    {
     "data": {
      "text/html": [
       "<div>\n",
       "<style scoped>\n",
       "    .dataframe tbody tr th:only-of-type {\n",
       "        vertical-align: middle;\n",
       "    }\n",
       "\n",
       "    .dataframe tbody tr th {\n",
       "        vertical-align: top;\n",
       "    }\n",
       "\n",
       "    .dataframe thead th {\n",
       "        text-align: right;\n",
       "    }\n",
       "</style>\n",
       "<table border=\"1\" class=\"dataframe\">\n",
       "  <thead>\n",
       "    <tr style=\"text-align: right;\">\n",
       "      <th></th>\n",
       "      <th>Rating</th>\n",
       "      <th>Reviews</th>\n",
       "      <th>Installs</th>\n",
       "      <th>Price</th>\n",
       "    </tr>\n",
       "  </thead>\n",
       "  <tbody>\n",
       "    <tr>\n",
       "      <th>count</th>\n",
       "      <td>10357.000000</td>\n",
       "      <td>1.035700e+04</td>\n",
       "      <td>1.035700e+04</td>\n",
       "      <td>10357.000000</td>\n",
       "    </tr>\n",
       "    <tr>\n",
       "      <th>mean</th>\n",
       "      <td>4.203737</td>\n",
       "      <td>4.059046e+05</td>\n",
       "      <td>1.415776e+07</td>\n",
       "      <td>1.030810</td>\n",
       "    </tr>\n",
       "    <tr>\n",
       "      <th>std</th>\n",
       "      <td>0.485594</td>\n",
       "      <td>2.696778e+06</td>\n",
       "      <td>8.023955e+07</td>\n",
       "      <td>16.277699</td>\n",
       "    </tr>\n",
       "    <tr>\n",
       "      <th>min</th>\n",
       "      <td>1.000000</td>\n",
       "      <td>0.000000e+00</td>\n",
       "      <td>0.000000e+00</td>\n",
       "      <td>0.000000</td>\n",
       "    </tr>\n",
       "    <tr>\n",
       "      <th>25%</th>\n",
       "      <td>4.100000</td>\n",
       "      <td>3.200000e+01</td>\n",
       "      <td>1.000000e+03</td>\n",
       "      <td>0.000000</td>\n",
       "    </tr>\n",
       "    <tr>\n",
       "      <th>50%</th>\n",
       "      <td>4.300000</td>\n",
       "      <td>1.680000e+03</td>\n",
       "      <td>1.000000e+05</td>\n",
       "      <td>0.000000</td>\n",
       "    </tr>\n",
       "    <tr>\n",
       "      <th>75%</th>\n",
       "      <td>4.500000</td>\n",
       "      <td>4.641600e+04</td>\n",
       "      <td>1.000000e+06</td>\n",
       "      <td>0.000000</td>\n",
       "    </tr>\n",
       "    <tr>\n",
       "      <th>max</th>\n",
       "      <td>5.000000</td>\n",
       "      <td>7.815831e+07</td>\n",
       "      <td>1.000000e+09</td>\n",
       "      <td>400.000000</td>\n",
       "    </tr>\n",
       "  </tbody>\n",
       "</table>\n",
       "</div>"
      ],
      "text/plain": [
       "             Rating       Reviews      Installs         Price\n",
       "count  10357.000000  1.035700e+04  1.035700e+04  10357.000000\n",
       "mean       4.203737  4.059046e+05  1.415776e+07      1.030810\n",
       "std        0.485594  2.696778e+06  8.023955e+07     16.277699\n",
       "min        1.000000  0.000000e+00  0.000000e+00      0.000000\n",
       "25%        4.100000  3.200000e+01  1.000000e+03      0.000000\n",
       "50%        4.300000  1.680000e+03  1.000000e+05      0.000000\n",
       "75%        4.500000  4.641600e+04  1.000000e+06      0.000000\n",
       "max        5.000000  7.815831e+07  1.000000e+09    400.000000"
      ]
     },
     "execution_count": 28,
     "metadata": {},
     "output_type": "execute_result"
    }
   ],
   "source": [
    "google_data.describe()"
   ]
  },
  {
   "cell_type": "markdown",
   "id": "5b5f7531",
   "metadata": {},
   "source": [
    "## DATA VISUALIZATION"
   ]
  },
  {
   "cell_type": "markdown",
   "id": "5d1821af",
   "metadata": {},
   "source": [
    "## Category wise installs"
   ]
  },
  {
   "cell_type": "code",
   "execution_count": 29,
   "id": "6e81d8be",
   "metadata": {},
   "outputs": [],
   "source": [
    "grp = google_data.groupby('Category')"
   ]
  },
  {
   "cell_type": "code",
   "execution_count": 30,
   "id": "762396e8",
   "metadata": {},
   "outputs": [],
   "source": [
    "data=grp['Installs'].sum()"
   ]
  },
  {
   "cell_type": "code",
   "execution_count": 31,
   "id": "eed8f1b4",
   "metadata": {},
   "outputs": [
    {
     "data": {
      "text/plain": [
       "<BarContainer object of 33 artists>"
      ]
     },
     "execution_count": 31,
     "metadata": {},
     "output_type": "execute_result"
    },
    {
     "data": {
      "image/png": "[encoded data removed]",
      "text/plain": [
       "<Figure size 1368x504 with 1 Axes>"
      ]
     },
     "metadata": {},
     "output_type": "display_data"
    }
   ],
   "source": [
    "plt.figure(figsize=(19, 7))\n",
    "plt.xticks(rotation=90)\n",
    "plt.bar(data.index,data, log=True)"
   ]
  },
  {
   "cell_type": "markdown",
   "id": "f9ddfe24",
   "metadata": {},
   "source": [
    "#### Since GAME and COMMUNICATION are the popular installed app categories let's find the average rating for these."
   ]
  },
  {
   "cell_type": "markdown",
   "id": "74ee443f",
   "metadata": {},
   "source": [
    "## average rating for GAME & COMMUNICATION categories"
   ]
  },
  {
   "cell_type": "code",
   "execution_count": 32,
   "id": "ddb26ad5",
   "metadata": {},
   "outputs": [
    {
     "data": {
      "text/plain": [
       "4.3"
      ]
     },
     "execution_count": 32,
     "metadata": {},
     "output_type": "execute_result"
    }
   ],
   "source": [
    "(grp['Rating'].mean()).loc['GAME'].round(1)"
   ]
  },
  {
   "cell_type": "code",
   "execution_count": 33,
   "id": "e6745064",
   "metadata": {
    "scrolled": true
   },
   "outputs": [
    {
     "data": {
      "text/plain": [
       "4.2"
      ]
     },
     "execution_count": 33,
     "metadata": {},
     "output_type": "execute_result"
    }
   ],
   "source": [
    "(grp['Rating'].mean()).loc['COMMUNICATION'].round(1)"
   ]
  },
  {
   "cell_type": "markdown",
   "id": "25fd6a47",
   "metadata": {},
   "source": [
    "## category vs reviews"
   ]
  },
  {
   "cell_type": "code",
   "execution_count": 34,
   "id": "bc600253",
   "metadata": {},
   "outputs": [
    {
     "name": "stderr",
     "output_type": "stream",
     "text": [
      "E:\\anaconda3\\lib\\site-packages\\seaborn\\_decorators.py:36: FutureWarning: Pass the following variables as keyword args: x, y. From version 0.12, the only valid positional argument will be `data`, and passing other arguments without an explicit keyword will result in an error or misinterpretation.\n",
      "  warnings.warn(\n"
     ]
    },
    {
     "data": {
      "text/plain": [
       "<AxesSubplot:xlabel='Category', ylabel='Reviews'>"
      ]
     },
     "execution_count": 34,
     "metadata": {},
     "output_type": "execute_result"
    },
    {
     "data": {
      "image/png": "[encoded data removed]",
      "text/plain": [
       "<Figure size 1296x576 with 1 Axes>"
      ]
     },
     "metadata": {},
     "output_type": "display_data"
    }
   ],
   "source": [
    "plt.subplots(figsize=(18,8))\n",
    "plt.xticks(rotation=90)\n",
    "sns.barplot('Category','Reviews',data=google_data)"
   ]
  },
  {
   "cell_type": "markdown",
   "id": "38b27a40",
   "metadata": {},
   "source": [
    "#### SOCIAL AND COMMUNICATION ARE THE MOST REVIEWED"
   ]
  },
  {
   "cell_type": "code",
   "execution_count": 35,
   "id": "9ef77589",
   "metadata": {},
   "outputs": [
    {
     "name": "stderr",
     "output_type": "stream",
     "text": [
      "E:\\anaconda3\\lib\\site-packages\\seaborn\\_decorators.py:36: FutureWarning: Pass the following variables as keyword args: x, y. From version 0.12, the only valid positional argument will be `data`, and passing other arguments without an explicit keyword will result in an error or misinterpretation.\n",
      "  warnings.warn(\n"
     ]
    },
    {
     "data": {
      "text/plain": [
       "<AxesSubplot:xlabel='Content Rating', ylabel='Installs'>"
      ]
     },
     "execution_count": 35,
     "metadata": {},
     "output_type": "execute_result"
    },
    {
     "data": {
      "image/png": "[encoded data removed]",
      "text/plain": [
       "<Figure size 1152x432 with 1 Axes>"
      ]
     },
     "metadata": {},
     "output_type": "display_data"
    }
   ],
   "source": [
    "plt.subplots(figsize=(16,6))\n",
    "sns.barplot(google_data['Content Rating'],google_data['Installs'])"
   ]
  },
  {
   "cell_type": "markdown",
   "id": "b5b6e927",
   "metadata": {},
   "source": [
    "#### apps targeted towards teens and everyone above 10 are the most popular"
   ]
  },
  {
   "cell_type": "markdown",
   "id": "1acbc269",
   "metadata": {},
   "source": [
    "## PERCENTAGE OF FREE VS PAID APPS"
   ]
  },
  {
   "cell_type": "code",
   "execution_count": 36,
   "id": "555fd5f6",
   "metadata": {},
   "outputs": [
    {
     "data": {
      "text/plain": [
       "{'free': 9592, 'paid': 765}"
      ]
     },
     "execution_count": 36,
     "metadata": {},
     "output_type": "execute_result"
    }
   ],
   "source": [
    " piechart= {'free':0,\n",
    "          'paid':0}\n",
    "for x in google_data.Type:\n",
    "    if x == 'Paid':\n",
    "        piechart['paid']+=1\n",
    "    else:\n",
    "        piechart['free']+=1\n",
    "\n",
    "piechart"
   ]
  },
  {
   "cell_type": "code",
   "execution_count": 37,
   "id": "9164a246",
   "metadata": {},
   "outputs": [
    {
     "data": {
      "text/plain": [
       "Text(0.5, 1.0, 'proportion of free apps vs paid apps')"
      ]
     },
     "execution_count": 37,
     "metadata": {},
     "output_type": "execute_result"
    },
    {
     "data": {
      "image/png": "[encoded data removed]",
      "text/plain": [
       "<Figure size 432x288 with 1 Axes>"
      ]
     },
     "metadata": {},
     "output_type": "display_data"
    }
   ],
   "source": [
    "plt.pie(piechart.values(), labels= ['free','paid'],explode=[0,0.1],autopct='%.0f%%')\n",
    "plt.title('proportion of free apps vs paid apps')"
   ]
  },
  {
   "cell_type": "markdown",
   "id": "392c7349",
   "metadata": {},
   "source": [
    "## MOST INSTALLED GAMES"
   ]
  },
  {
   "cell_type": "code",
   "execution_count": 38,
   "id": "b2b48e23",
   "metadata": {},
   "outputs": [
    {
     "data": {
      "text/html": [
       "<div>\n",
       "<style scoped>\n",
       "    .dataframe tbody tr th:only-of-type {\n",
       "        vertical-align: middle;\n",
       "    }\n",
       "\n",
       "    .dataframe tbody tr th {\n",
       "        vertical-align: top;\n",
       "    }\n",
       "\n",
       "    .dataframe thead th {\n",
       "        text-align: right;\n",
       "    }\n",
       "</style>\n",
       "<table border=\"1\" class=\"dataframe\">\n",
       "  <thead>\n",
       "    <tr style=\"text-align: right;\">\n",
       "      <th></th>\n",
       "      <th>App</th>\n",
       "      <th>Installs</th>\n",
       "    </tr>\n",
       "  </thead>\n",
       "  <tbody>\n",
       "    <tr>\n",
       "      <th>0</th>\n",
       "      <td>Subway Surfers</td>\n",
       "      <td>1000000000</td>\n",
       "    </tr>\n",
       "    <tr>\n",
       "      <th>1</th>\n",
       "      <td>Pou</td>\n",
       "      <td>500000000</td>\n",
       "    </tr>\n",
       "    <tr>\n",
       "      <th>2</th>\n",
       "      <td>Temple Run 2</td>\n",
       "      <td>500000000</td>\n",
       "    </tr>\n",
       "    <tr>\n",
       "      <th>3</th>\n",
       "      <td>My Talking Tom</td>\n",
       "      <td>500000000</td>\n",
       "    </tr>\n",
       "    <tr>\n",
       "      <th>4</th>\n",
       "      <td>Candy Crush Saga</td>\n",
       "      <td>500000000</td>\n",
       "    </tr>\n",
       "    <tr>\n",
       "      <th>5</th>\n",
       "      <td>Flow Free</td>\n",
       "      <td>100000000</td>\n",
       "    </tr>\n",
       "    <tr>\n",
       "      <th>6</th>\n",
       "      <td>Sniper 3D Gun Shooter: Free Shooting Games - FPS</td>\n",
       "      <td>100000000</td>\n",
       "    </tr>\n",
       "    <tr>\n",
       "      <th>7</th>\n",
       "      <td>Hill Climb Racing</td>\n",
       "      <td>100000000</td>\n",
       "    </tr>\n",
       "    <tr>\n",
       "      <th>8</th>\n",
       "      <td>Angry Birds Rio</td>\n",
       "      <td>100000000</td>\n",
       "    </tr>\n",
       "    <tr>\n",
       "      <th>9</th>\n",
       "      <td>Talking Tom Gold Run</td>\n",
       "      <td>100000000</td>\n",
       "    </tr>\n",
       "  </tbody>\n",
       "</table>\n",
       "</div>"
      ],
      "text/plain": [
       "                                                App    Installs\n",
       "0                                    Subway Surfers  1000000000\n",
       "1                                               Pou   500000000\n",
       "2                                      Temple Run 2   500000000\n",
       "3                                    My Talking Tom   500000000\n",
       "4                                  Candy Crush Saga   500000000\n",
       "5                                         Flow Free   100000000\n",
       "6  Sniper 3D Gun Shooter: Free Shooting Games - FPS   100000000\n",
       "7                                 Hill Climb Racing   100000000\n",
       "8                                   Angry Birds Rio   100000000\n",
       "9                              Talking Tom Gold Run   100000000"
      ]
     },
     "execution_count": 38,
     "metadata": {},
     "output_type": "execute_result"
    }
   ],
   "source": [
    "game=google_data[google_data['Category']=='GAME']\n",
    "game[['App','Installs']].sort_values(by='Installs', ascending = False).drop_duplicates().head(10).reset_index(drop=True)"
   ]
  },
  {
   "cell_type": "markdown",
   "id": "a7e9221f",
   "metadata": {},
   "source": [
    "## MOST INSTALLED APPS"
   ]
  },
  {
   "cell_type": "code",
   "execution_count": 39,
   "id": "ab8d12f7",
   "metadata": {},
   "outputs": [
    {
     "data": {
      "text/html": [
       "<div>\n",
       "<style scoped>\n",
       "    .dataframe tbody tr th:only-of-type {\n",
       "        vertical-align: middle;\n",
       "    }\n",
       "\n",
       "    .dataframe tbody tr th {\n",
       "        vertical-align: top;\n",
       "    }\n",
       "\n",
       "    .dataframe thead th {\n",
       "        text-align: right;\n",
       "    }\n",
       "</style>\n",
       "<table border=\"1\" class=\"dataframe\">\n",
       "  <thead>\n",
       "    <tr style=\"text-align: right;\">\n",
       "      <th></th>\n",
       "      <th>App</th>\n",
       "      <th>Installs</th>\n",
       "      <th>Category</th>\n",
       "    </tr>\n",
       "  </thead>\n",
       "  <tbody>\n",
       "    <tr>\n",
       "      <th>0</th>\n",
       "      <td>Hangouts</td>\n",
       "      <td>1000000000</td>\n",
       "      <td>COMMUNICATION</td>\n",
       "    </tr>\n",
       "    <tr>\n",
       "      <th>1</th>\n",
       "      <td>YouTube</td>\n",
       "      <td>1000000000</td>\n",
       "      <td>VIDEO_PLAYERS</td>\n",
       "    </tr>\n",
       "    <tr>\n",
       "      <th>2</th>\n",
       "      <td>Gmail</td>\n",
       "      <td>1000000000</td>\n",
       "      <td>COMMUNICATION</td>\n",
       "    </tr>\n",
       "    <tr>\n",
       "      <th>3</th>\n",
       "      <td>Google Chrome: Fast &amp; Secure</td>\n",
       "      <td>1000000000</td>\n",
       "      <td>COMMUNICATION</td>\n",
       "    </tr>\n",
       "    <tr>\n",
       "      <th>4</th>\n",
       "      <td>Subway Surfers</td>\n",
       "      <td>1000000000</td>\n",
       "      <td>GAME</td>\n",
       "    </tr>\n",
       "    <tr>\n",
       "      <th>5</th>\n",
       "      <td>Google Drive</td>\n",
       "      <td>1000000000</td>\n",
       "      <td>PRODUCTIVITY</td>\n",
       "    </tr>\n",
       "    <tr>\n",
       "      <th>6</th>\n",
       "      <td>Google Photos</td>\n",
       "      <td>1000000000</td>\n",
       "      <td>PHOTOGRAPHY</td>\n",
       "    </tr>\n",
       "    <tr>\n",
       "      <th>7</th>\n",
       "      <td>Google Play Games</td>\n",
       "      <td>1000000000</td>\n",
       "      <td>ENTERTAINMENT</td>\n",
       "    </tr>\n",
       "    <tr>\n",
       "      <th>8</th>\n",
       "      <td>Google News</td>\n",
       "      <td>1000000000</td>\n",
       "      <td>NEWS_AND_MAGAZINES</td>\n",
       "    </tr>\n",
       "    <tr>\n",
       "      <th>9</th>\n",
       "      <td>Skype - free IM &amp; video calls</td>\n",
       "      <td>1000000000</td>\n",
       "      <td>COMMUNICATION</td>\n",
       "    </tr>\n",
       "  </tbody>\n",
       "</table>\n",
       "</div>"
      ],
      "text/plain": [
       "                             App    Installs            Category\n",
       "0                       Hangouts  1000000000       COMMUNICATION\n",
       "1                        YouTube  1000000000       VIDEO_PLAYERS\n",
       "2                          Gmail  1000000000       COMMUNICATION\n",
       "3   Google Chrome: Fast & Secure  1000000000       COMMUNICATION\n",
       "4                 Subway Surfers  1000000000                GAME\n",
       "5                   Google Drive  1000000000        PRODUCTIVITY\n",
       "6                  Google Photos  1000000000         PHOTOGRAPHY\n",
       "7              Google Play Games  1000000000       ENTERTAINMENT\n",
       "8                    Google News  1000000000  NEWS_AND_MAGAZINES\n",
       "9  Skype - free IM & video calls  1000000000       COMMUNICATION"
      ]
     },
     "execution_count": 39,
     "metadata": {},
     "output_type": "execute_result"
    }
   ],
   "source": [
    "google_data[['App','Installs','Category']].sort_values(by='Installs', ascending = False).drop_duplicates().head(10).reset_index(drop=True)"
   ]
  },
  {
   "cell_type": "code",
   "execution_count": null,
   "id": "a31d1bbc",
   "metadata": {},
   "outputs": [],
   "source": []
  }
 ],
 "metadata": {
  "kernelspec": {
   "display_name": "Python 3 (ipykernel)",
   "language": "python",
   "name": "python3"
  },
  "language_info": {
   "codemirror_mode": {
    "name": "ipython",
    "version": 3
   },
   "file_extension": ".py",
   "mimetype": "text/x-python",
   "name": "python",
   "nbconvert_exporter": "python",
   "pygments_lexer": "ipython3",
   "version": "3.9.7"
  }
 },
 "nbformat": 4,
 "nbformat_minor": 5
}
